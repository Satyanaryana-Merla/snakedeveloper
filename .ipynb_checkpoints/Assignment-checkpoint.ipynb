{
 "cells": [
  {
   "cell_type": "code",
   "execution_count": 27,
   "id": "4ddce18b-ca7b-4c91-b1a3-813db76fc168",
   "metadata": {},
   "outputs": [
    {
     "name": "stdin",
     "output_type": "stream",
     "text": [
      "Enter no.of people : 1\n",
      "Enter how many seats : 2\n"
     ]
    },
    {
     "name": "stdout",
     "output_type": "stream",
     "text": [
      "The no_of buses are required 1 \n"
     ]
    }
   ],
   "source": [
    "#1. Take the input from the user for(Total number of people,Number of seats for bus. Based on two inputs\n",
    "#Decide how many number of buses required\n",
    "\n",
    "no_of_people = int(input(\"Enter no.of people :\"))\n",
    "no_of_seats = int(input(\"Enter how many seats :\"))\n",
    "\n",
    "# if no_of_seats > 0:\n",
    "buses_required = ((no_of_people + no_of_seats) // no_of_seats)\n",
    "print(f\"The no_of buses are required {buses_required} \")\n",
    "\n"
   ]
  },
  {
   "cell_type": "code",
   "execution_count": 2,
   "id": "3e058d25-68e4-4c93-b6e5-6a5034b1986c",
   "metadata": {},
   "outputs": [
    {
     "name": "stdin",
     "output_type": "stream",
     "text": [
      "Enter temperature in Fahrenheit:  100\n"
     ]
    },
    {
     "name": "stdout",
     "output_type": "stream",
     "text": [
      "Temperature in Celsius: 37.78\n"
     ]
    }
   ],
   "source": [
    "# 2.take temperature from the user and convert foreign heat -> Celsius.\n",
    "fahrenheit = float(input(\"Enter temperature in Fahrenheit: \"))\n",
    "\n",
    "celsius = (5/9) * (fahrenheit - 32)\n",
    "\n",
    "print(f\"Temperature in Celsius: {celsius:.2f}\")\n"
   ]
  },
  {
   "cell_type": "code",
   "execution_count": 3,
   "id": "596a3314-9c79-4f1d-8ada-22f8dea57784",
   "metadata": {},
   "outputs": [
    {
     "name": "stdin",
     "output_type": "stream",
     "text": [
      "Enter temperature in celsius:  32\n"
     ]
    },
    {
     "name": "stdout",
     "output_type": "stream",
     "text": [
      "Temperature in Celsius: 89.60\n"
     ]
    }
   ],
   "source": [
    "# 3.take temperature from the user and convert Celsius → foreign heat.\n",
    "\n",
    "celsius = float(input(\"Enter temperature in celsius: \"))\n",
    "\n",
    "Fahrenheit =((celsius*9/5) + 32)\n",
    "\n",
    "print(f\"Temperature in Celsius: {Fahrenheit:.2f}\")\n"
   ]
  },
  {
   "cell_type": "code",
   "execution_count": 4,
   "id": "62b82c28-c0e9-4183-b35f-2b49ebb0c349",
   "metadata": {},
   "outputs": [
    {
     "name": "stdin",
     "output_type": "stream",
     "text": [
      "Enter distance in kilometers:  10\n"
     ]
    },
    {
     "name": "stdout",
     "output_type": "stream",
     "text": [
      " Meters : 10000.0, Cms : 1000000.0, MM : 10000000.0, Feets : 32810.0, yards : 10936.0\n"
     ]
    }
   ],
   "source": [
    "# 5.Take the distance in km\n",
    "# Show that in cm, meters, in milli meters, cents, feets, yards\n",
    "\n",
    "Kilometers = float(input(\"Enter distance in kilometers: \"))\n",
    "\n",
    "Meters = Kilometers * 1000\n",
    "\n",
    "cm = Meters * 100\n",
    "\n",
    "millimeters = cm * 10\n",
    "\n",
    "cents = None\n",
    "\n",
    "feets =3281 * Kilometers\n",
    "\n",
    "yards = 1093.6 * Kilometers\n",
    "\n",
    "print(f\" Meters : {Meters}, Cms : {cm}, MM : {millimeters}, Feets : {feets}, yards : {yards}\" )\n",
    "\n",
    "\n"
   ]
  },
  {
   "cell_type": "code",
   "execution_count": 5,
   "id": "ee77e3ac-5e9a-4ccd-9ad8-d60f81577a92",
   "metadata": {},
   "outputs": [
    {
     "name": "stdin",
     "output_type": "stream",
     "text": [
      "Enter your hard disk in gb:  1\n"
     ]
    },
    {
     "name": "stdout",
     "output_type": "stream",
     "text": [
      "GB : 1, MB : 1024, KB : 1048576, TB : 0.0009765625, PB :9.5367431640625e-07\n"
     ]
    }
   ],
   "source": [
    "# 6.Take the size of your hard disk in GB\n",
    "# Show that in MB, KB, TB, PB\n",
    "\n",
    "gb = int(input(\"Enter your hard disk in gb: \"))\n",
    "\n",
    "mb = 1024 * gb\n",
    "\n",
    "kb = 1024* mb\n",
    "\n",
    "tb = gb / 1024\n",
    "\n",
    "pb = tb/ 1024\n",
    "\n",
    "print(f\"GB : {gb}, MB : {mb}, KB : {kb}, TB : {tb}, PB :{pb}\")"
   ]
  },
  {
   "cell_type": "code",
   "execution_count": 6,
   "id": "9b345151-e141-47bf-a1d2-ca54c2ce26e4",
   "metadata": {},
   "outputs": [
    {
     "name": "stdin",
     "output_type": "stream",
     "text": [
      "Enter Name of yours Satya\n",
      "Enter Name of age 24\n",
      "Enter Name of height 156\n"
     ]
    },
    {
     "name": "stdout",
     "output_type": "stream",
     "text": [
      "The details of the person: Name:Satya, Age:24, Height:156.\n"
     ]
    }
   ],
   "source": [
    "# 7. Take name, age, height from the user and print like below\n",
    "# The details of the person: Name:name of the person, Age:age of the person, Height:height of the person\n",
    "# Note: make sure that no space between : and a value and should be space after “COMA”\n",
    "\n",
    "name = input(\"Enter Name of yours\")\n",
    "age = input(\"Enter Name of age\")\n",
    "height = input(\"Enter Name of height\")\n",
    "\n",
    "print(f\"The details of the person: Name:{name}, Age:{age}, Height:{height}.\")\n"
   ]
  },
  {
   "cell_type": "code",
   "execution_count": 8,
   "id": "57ca6282-125f-4011-ba7c-f1551ce41952",
   "metadata": {},
   "outputs": [
    {
     "name": "stdin",
     "output_type": "stream",
     "text": [
      "Enter your weight in kilograms:  52\n",
      "Enter your height in centimeters:  156\n"
     ]
    },
    {
     "name": "stdout",
     "output_type": "stream",
     "text": [
      "Your BMI is: 21.367521367521366\n"
     ]
    }
   ],
   "source": [
    "# 8. BMI calculation: take required parameters for BMI calculation from the user and calculate BMI of the person.\n",
    "\n",
    "weight = float(input(\"Enter your weight in kilograms: \"))\n",
    "\n",
    "height_cm = float(input(\"Enter your height in centimeters: \"))\n",
    "\n",
    "height_m = height_cm / 100\n",
    "\n",
    "bmi = weight / (height_m ** 2)\n",
    "\n",
    "print(f\"Your BMI is: {bmi}\")"
   ]
  },
  {
   "cell_type": "code",
   "execution_count": 1,
   "id": "6d88bf82-f8b4-4d43-964f-f18c47917836",
   "metadata": {},
   "outputs": [
    {
     "name": "stdin",
     "output_type": "stream",
     "text": [
      "Enter the values: 10\n",
      "Enter the values: 10\n",
      "Enter the values: 101\n",
      "Enter the values: 010\n"
     ]
    },
    {
     "name": "stdout",
     "output_type": "stream",
     "text": [
      "161.17499999999998 32.75 <built-in function sum>\n"
     ]
    }
   ],
   "source": [
    "# 4.take four number from the user (variables name it as x1,x2,x3,x4)\n",
    "# Do the below operations\n",
    "# (x1+x2)**2, (x3+x4)**3\n",
    "# variance\n",
    "# standard deviation: sqrt(variance): User math module. Math.sqrt(variance)\n",
    "# Regression\n",
    "# y=mx+b\n",
    "# m=1.23\n",
    "# b=0.045\n",
    "# find out y\n",
    "# y=m*(x1+x2+x3+x4)+b\n",
    "# Find the average of four numbers\n",
    "# Find the sum of four numbers\n",
    "import math\n",
    "x1 = int(input(\"Enter the values:\"))\n",
    "x2 = int(input(\"Enter the values:\"))\n",
    "x3 = int(input(\"Enter the values:\"))\n",
    "x4 = int(input(\"Enter the values:\"))\n",
    "\n",
    "x5 = (x1 + x2) ** 2\n",
    "x6 = (x3 + x4) ** 3\n",
    "sum1 = (x1 + x2 + x3 + x4)\n",
    "m = 1.23\n",
    "b = 0.045\n",
    "# y = m * sum + b\n",
    "y=m*(x1+x2+x3+x4)+b\n",
    "\n",
    "\n",
    "numbers = [x1, x2, x3, x4]\n",
    "mean = sum(numbers) / len(numbers)\n",
    "variance = sum((x - mean) ** 2 for x in numbers) / len(numbers)\n",
    "\n",
    "\n",
    "std_deviation = math.sqrt(variance)\n",
    "\n",
    "\n",
    "average = (x1 + x2 + x3 + x4)/4\n",
    "print(y, average, sum)\n",
    "\n",
    "\n",
    "\n",
    "\n",
    "    "
   ]
  },
  {
   "cell_type": "code",
   "execution_count": 3,
   "id": "fd16fcb1-2957-45b1-bad8-338162631f99",
   "metadata": {},
   "outputs": [
    {
     "name": "stdout",
     "output_type": "stream",
     "text": [
      "Name: Jayaram, Age: 1.600000, Height: 3.535623, weight: 10.343857.\n"
     ]
    }
   ],
   "source": [
    "# 9. name=\"Jayaram\"\n",
    "# age=1.6\n",
    "# height=3.5356234\n",
    "# weight=10.343856783\n",
    "# By using above inputs print the output\n",
    "# Name:Jayaram, Age:1.6, Height:3.54, Weight:10.344\n",
    "# Note: Use format specifiers(%s, %d, %f)\n",
    "\n",
    "name=\"Jayaram\"\n",
    "age=1.6\n",
    "height=3.5356234\n",
    "weight=10.343856783\n",
    "\n",
    "print(\"Name: %s, Age: %f, Height: %f, weight: %f.\"%(name, age, height, weight))"
   ]
  },
  {
   "cell_type": "code",
   "execution_count": 5,
   "id": "d7b762cf-4fe7-4f21-baaf-c875141cce5f",
   "metadata": {},
   "outputs": [
    {
     "name": "stdout",
     "output_type": "stream",
     "text": [
      "satya\n"
     ]
    }
   ],
   "source": [
    "# 10. Take three upper case letters from the user, convert in to small case.\n",
    "letter = \"SATYA\"\n",
    "print(letter.lower())"
   ]
  },
  {
   "cell_type": "code",
   "execution_count": 25,
   "id": "4eedd22a-006d-44d1-9a65-6705237c96b4",
   "metadata": {},
   "outputs": [
    {
     "name": "stdin",
     "output_type": "stream",
     "text": [
      "Enter the base value 2\n",
      "Enter the Exponent value 3\n"
     ]
    },
    {
     "name": "stdout",
     "output_type": "stream",
     "text": [
      "2°³\n"
     ]
    }
   ],
   "source": [
    "# 11. take base and exponent value from the user and print like in mathematics:\n",
    "# example: base=2, exponent=3: 23\n",
    "# Use: 2\\u00b3\n",
    "\n",
    "base = input(\"Enter the base value\")\n",
    "exponent = input(\"Enter the Exponent value\")\n",
    "\n",
    "super_script = exponent.replace('3', '\\u00B3')\n",
    "print(f\"{base}\\u00b0{super_script}\")\n",
    "               "
   ]
  },
  {
   "cell_type": "code",
   "execution_count": 11,
   "id": "a9fec335-6c35-4d8d-9382-f891af3a41d5",
   "metadata": {},
   "outputs": [
    {
     "name": "stdout",
     "output_type": "stream",
     "text": [
      "Total cost of groceries are: 170.000000 \n",
      "Total average_cost groceries are: 42.500000 \n",
      "Total max_cost groceries are: 80.000000 \n",
      "Total min_cost groceries are: 10.000000 \n"
     ]
    }
   ],
   "source": [
    "# 12. Take some groceries cost prices and print total cost and average cost, what is the max cost, what is the minimum cost.\n",
    "\n",
    "soap = 80\n",
    "bottle = 50\n",
    "book = 30\n",
    "pen = 10\n",
    "\n",
    "groceries = [soap, bottle, book, pen]\n",
    "\n",
    "total_cost = sum(groceries)\n",
    "\n",
    "average_cost = total_cost / len(groceries)\n",
    "\n",
    "max_cost = max(groceries)\n",
    "\n",
    "min_cost = min(groceries)\n",
    "\n",
    "print(\"Total cost of groceries are: %f \"%(total_cost))\n",
    "print(\"Total average_cost groceries are: %f \"%(average_cost))\n",
    "print(\"Total max_cost groceries are: %f \"%(max_cost))\n",
    "print(\"Total min_cost groceries are: %f \"%(min_cost))\n"
   ]
  },
  {
   "cell_type": "code",
   "execution_count": 15,
   "id": "d018b814-dda6-4f96-b89e-6394ecaea955",
   "metadata": {},
   "outputs": [
    {
     "name": "stdout",
     "output_type": "stream",
     "text": [
      "DERABAD\n",
      "YDER\n",
      "DABARED\n",
      "\n",
      "RABA\n",
      "\n",
      "YEAA\n",
      "DBRD\n"
     ]
    }
   ],
   "source": [
    "# SLICING:\n",
    "# 13. s=”HYDERABAD” print(s[2:9]), print(s[-8:5]), print(s[-1:-8:-1]), \n",
    "# print(s[-1:-8]), print(s[4:8]), print(s[4:8:-1]), print(s[1:8:2]), print(s[8:1:-2])\n",
    "\n",
    "s=\"HYDERABAD\"\n",
    "\n",
    "print(s[2:9]) \n",
    "print(s[-8:5])\n",
    "print(s[-1:-8:-1])\n",
    "print(s[-1:-8])\n",
    "print(s[4:8])\n",
    "print(s[4:8:-1])\n",
    "print(s[1:8:2])\n",
    "print(s[8:1:-2])"
   ]
  },
  {
   "cell_type": "code",
   "execution_count": null,
   "id": "3562d39a-9d9a-4fc8-aa53-eb3455a7bef5",
   "metadata": {},
   "outputs": [],
   "source": []
  }
 ],
 "metadata": {
  "kernelspec": {
   "display_name": "Python 3 (ipykernel)",
   "language": "python",
   "name": "python3"
  },
  "language_info": {
   "codemirror_mode": {
    "name": "ipython",
    "version": 3
   },
   "file_extension": ".py",
   "mimetype": "text/x-python",
   "name": "python",
   "nbconvert_exporter": "python",
   "pygments_lexer": "ipython3",
   "version": "3.12.4"
  }
 },
 "nbformat": 4,
 "nbformat_minor": 5
}
