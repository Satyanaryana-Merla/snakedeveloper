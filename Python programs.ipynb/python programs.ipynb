{
 "cells": [
  {
   "cell_type": "markdown",
   "metadata": {},
   "source": [
    "Reverse a String\n",
    "Problem: Write a program to reverse a string.\n",
    "\n",
    "Logic:\n",
    "\n",
    "Use Python slicing to reverse the string. Strings in Python can be sliced using the syntax [start:end:step]. A step of -1 reverses the string."
   ]
  },
  {
   "cell_type": "code",
   "execution_count": 2,
   "metadata": {},
   "outputs": [
    {
     "name": "stdout",
     "output_type": "stream",
     "text": [
      "OLLEH\n"
     ]
    }
   ],
   "source": [
    "def reverse_string(s):\n",
    "    return s[::-1]\n",
    "\n",
    "print(reverse_string(\"HELLO\"))"
   ]
  },
  {
   "cell_type": "markdown",
   "metadata": {},
   "source": [
    " Check if a Number is Prime\n",
    "Problem: Write a program to check if a number is prime.\n",
    "\n",
    "Logic:\n",
    "\n",
    "A prime number is a number greater than 1 that has no divisors other than 1 and itself.\n",
    "Loop from 2 to the square root of the number (since any factor larger than the square root will have a corresponding smaller factor)."
   ]
  },
  {
   "cell_type": "code",
   "execution_count": 4,
   "metadata": {},
   "outputs": [
    {
     "name": "stdout",
     "output_type": "stream",
     "text": [
      "True\n",
      "False\n"
     ]
    }
   ],
   "source": [
    "import math\n",
    "\n",
    "def is_prime(num):\n",
    "    if num <= 1:\n",
    "        return False\n",
    "    for i in range(2, int(math.sqrt(num))+1):\n",
    "        if num % i == 0:\n",
    "            return False\n",
    "        return True\n",
    "    \n",
    "print(is_prime(29))\n",
    "print(is_prime(6))\n"
   ]
  },
  {
   "cell_type": "markdown",
   "metadata": {},
   "source": [
    ". Fibonacci Sequence\n",
    "Problem: Generate the first N numbers of the Fibonacci sequence.\n",
    "\n",
    "Logic:\n",
    "\n",
    "The Fibonacci sequence starts with 0 and 1, and each subsequent number is the sum of the previous two numbers.\n",
    "Use a loop to calculate each Fibonacci number up to n."
   ]
  },
  {
   "cell_type": "code",
   "execution_count": 5,
   "metadata": {},
   "outputs": [
    {
     "name": "stdout",
     "output_type": "stream",
     "text": [
      "[0, 1, 1, 2, 3, 5, 8, 13, 21, 34]\n"
     ]
    }
   ],
   "source": [
    "def fibonacci(n):\n",
    "    fib_sequence = [0, 1]\n",
    "    while len(fib_sequence) < n:\n",
    "        fib_sequence.append(fib_sequence[-1] + fib_sequence[-2])\n",
    "    return fib_sequence[:n]\n",
    "print(fibonacci(10))"
   ]
  },
  {
   "cell_type": "markdown",
   "metadata": {},
   "source": [
    " Check if a String is a Palindrome\n",
    "Problem: Write a program to check if a string is a palindrome (same forwards and backwards).\n",
    "\n",
    "Logic:\n",
    "\n",
    "A palindrome reads the same forwards as it does backward.\n",
    "Use string slicing to reverse the string and compare it to the original."
   ]
  },
  {
   "cell_type": "code",
   "execution_count": 7,
   "metadata": {},
   "outputs": [
    {
     "name": "stdout",
     "output_type": "stream",
     "text": [
      "True\n",
      "False\n"
     ]
    }
   ],
   "source": [
    "def is_palinedrome(s):\n",
    "    return s == s[::-1]\n",
    "\n",
    "print(is_palinedrome(\"madam\"))\n",
    "print(is_palinedrome(\"satya\"))"
   ]
  },
  {
   "cell_type": "markdown",
   "metadata": {},
   "source": [
    "Find the Largest Element in an Array\n",
    "Problem: Write a program to find the largest element in an array.\n",
    "\n",
    "Logic:\n",
    "\n",
    "Iterate through the array, keeping track of the largest element encountered."
   ]
  },
  {
   "cell_type": "code",
   "execution_count": 8,
   "metadata": {},
   "outputs": [
    {
     "name": "stdout",
     "output_type": "stream",
     "text": [
      "90\n"
     ]
    }
   ],
   "source": [
    "def find_laegest(arr):\n",
    "    largst = arr[0]\n",
    "    for num in arr:\n",
    "        if num > largst:\n",
    "            largst = num\n",
    "    return largst\n",
    "\n",
    "print(find_laegest([10,20,30,40,80,90]))"
   ]
  },
  {
   "cell_type": "markdown",
   "metadata": {},
   "source": [
    "Find the Missing Number in an Array\n",
    "Problem: Given an array containing n-1 numbers from 1 to n, find the missing number.\n",
    "\n",
    "Logic:\n",
    "\n",
    "The sum of the first n natural numbers is n * (n + 1) / 2.\n",
    "Subtract the sum of the given array from this total sum to find the missing number."
   ]
  },
  {
   "cell_type": "code",
   "execution_count": 21,
   "metadata": {},
   "outputs": [
    {
     "name": "stdout",
     "output_type": "stream",
     "text": [
      "8\n"
     ]
    }
   ],
   "source": [
    "def find_missing(arr1, n):\n",
    "    total_sum = n * (n+1) //2\n",
    "    actual_sum = sum(arr1)\n",
    "    return total_sum - actual_sum\n",
    "\n",
    "\n",
    "arr1 = [1,2,3,4,5,6,7,9,10]\n",
    "n = 10\n",
    "print((find_missing(arr1, n)))"
   ]
  },
  {
   "cell_type": "markdown",
   "metadata": {},
   "source": [
    "Check if Two Strings are Anagrams\n",
    "Problem: Write a program to check if two strings are anagrams (contain the same characters in different orders).\n",
    "\n",
    "Logic:\n",
    "\n",
    "Convert both strings to lowercase (if case-insensitive) and sort the characters. If they are equal, they are anagrams."
   ]
  },
  {
   "cell_type": "code",
   "execution_count": 22,
   "metadata": {},
   "outputs": [
    {
     "name": "stdout",
     "output_type": "stream",
     "text": [
      "True\n",
      "False\n"
     ]
    }
   ],
   "source": [
    "def are_anagrams(s1, s2):\n",
    "    return sorted(s1.lower()) ==(sorted(s2.lower()))\n",
    "\n",
    "print(are_anagrams(\"madam\", \"madam\"))\n",
    "print(are_anagrams(\"madam\", \"satya\"))"
   ]
  },
  {
   "cell_type": "markdown",
   "metadata": {},
   "source": [
    "Find the First Non-Repeating Character\n",
    "Problem: Write a program to find the first non-repeating character in a string.\n",
    "\n",
    "Logic:\n",
    "\n",
    "Use a dictionary to store the frequency of each character. Iterate through the string to find the first character with a frequency of 1."
   ]
  },
  {
   "cell_type": "code",
   "execution_count": 23,
   "metadata": {},
   "outputs": [
    {
     "name": "stdout",
     "output_type": "stream",
     "text": [
      "['a', 'a', 's', 't', 'y']\n"
     ]
    }
   ],
   "source": []
  },
  {
   "cell_type": "markdown",
   "metadata": {},
   "source": [
    "Check if a Number is an Armstrong Number\n",
    "Problem: Write a program to check if a number is an Armstrong number (where the sum of its digits raised to the power of the number of digits is equal to the number itself).\n",
    "\n",
    "Logic:\n",
    "\n",
    "Separate the digits of the number, raise each digit to the power of the number of digits, and sum them."
   ]
  },
  {
   "cell_type": "code",
   "execution_count": 24,
   "metadata": {},
   "outputs": [
    {
     "name": "stdout",
     "output_type": "stream",
     "text": [
      "True\n"
     ]
    }
   ],
   "source": [
    "def is_armstrong(num):\n",
    "    num_str = str(num)\n",
    "    num_digits = len(num_str)\n",
    "    total = sum(int(digit) ** num_digits for digit in num_str)\n",
    "    return total == num\n",
    "\n",
    "print(is_armstrong(153))"
   ]
  },
  {
   "cell_type": "code",
   "execution_count": 25,
   "metadata": {},
   "outputs": [
    {
     "name": "stdout",
     "output_type": "stream",
     "text": [
      "153\n"
     ]
    }
   ],
   "source": [
    "num = 153\n",
    "num_str = str(num)\n",
    "num_digits = len(num_str)\n",
    "total = sum(int(digit) ** num_digits for digit in num_str)\n",
    "total == num\n",
    "print(total)"
   ]
  }
 ],
 "metadata": {
  "kernelspec": {
   "display_name": "Python 3",
   "language": "python",
   "name": "python3"
  },
  "language_info": {
   "codemirror_mode": {
    "name": "ipython",
    "version": 3
   },
   "file_extension": ".py",
   "mimetype": "text/x-python",
   "name": "python",
   "nbconvert_exporter": "python",
   "pygments_lexer": "ipython3",
   "version": "3.12.4"
  }
 },
 "nbformat": 4,
 "nbformat_minor": 2
}
