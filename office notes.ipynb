{
 "cells": [
  {
   "cell_type": "code",
   "execution_count": 5,
   "id": "28486fcb-8cd4-46ce-ab9c-8ee3bed5084e",
   "metadata": {},
   "outputs": [
    {
     "name": "stdout",
     "output_type": "stream",
     "text": [
      "satya slkdfnksjns \n",
      " goijgoir\n",
      "26\n"
     ]
    }
   ],
   "source": [
    "print(\"satya slkdfnksjns \\n goijgoir\")\n",
    "print(len(\"satya slkdfnksjns goijgoir\"))"
   ]
  },
  {
   "cell_type": "code",
   "execution_count": 2,
   "id": "20c7dc28-84a7-441b-96b3-f07ce644daea",
   "metadata": {},
   "outputs": [
    {
     "name": "stdout",
     "output_type": "stream",
     "text": [
      "amklfelfme \\n   \n"
     ]
    }
   ],
   "source": [
    "print(\"amklfelfme \\\\n   \")"
   ]
  },
  {
   "cell_type": "code",
   "execution_count": 13,
   "id": "bb4c6733-7386-4b8c-9986-9bf2a3ed80f1",
   "metadata": {},
   "outputs": [
    {
     "name": "stdout",
     "output_type": "stream",
     "text": [
      "H\n",
      "D\n",
      "\n",
      "Y\n"
     ]
    }
   ],
   "source": [
    "s = \"HYDERABAD\"\n",
    "print(s[0])\n",
    "print(s[-1])\n",
    "print(s[8:])\n",
    "print(s[-8])\n",
    "# print(s[-10])\n",
    "# print(s[10])"
   ]
  },
  {
   "cell_type": "code",
   "execution_count": 12,
   "id": "18dfed69-e093-42dc-8d12-7f691381d546",
   "metadata": {},
   "outputs": [
    {
     "name": "stdout",
     "output_type": "stream",
     "text": [
      "n\n"
     ]
    }
   ],
   "source": [
    "s = \"sat\"\n",
    "if s == s[::-1]:\n",
    "    print(\"y\")\n",
    "else:\n",
    "    print(\"n\")"
   ]
  },
  {
   "cell_type": "code",
   "execution_count": 16,
   "id": "bdb16888-1a8d-470c-8ca2-ae8fa83bf89d",
   "metadata": {},
   "outputs": [
    {
     "name": "stdout",
     "output_type": "stream",
     "text": [
      "\n"
     ]
    }
   ],
   "source": [
    "s = \"HYDERABAD\"\n",
    "print(s[8:0])"
   ]
  },
  {
   "cell_type": "code",
   "execution_count": 37,
   "id": "8354f3a2-5be7-4456-90b3-301a5ac35e72",
   "metadata": {},
   "outputs": [
    {
     "name": "stdout",
     "output_type": "stream",
     "text": [
      "\n",
      "ERABA\n",
      "YD\n",
      "DABARE\n",
      "DABAREDYH\n"
     ]
    }
   ],
   "source": [
    "s = \"HYDERABAD\"\n",
    "print(s[-1:-6])\n",
    "print(s[-6:-1])\n",
    "print(s[1:-6])\n",
    "print(s[8:2:-1])\n",
    "print(s[::-1])\n"
   ]
  },
  {
   "cell_type": "code",
   "execution_count": 2,
   "id": "83ab5c13",
   "metadata": {},
   "outputs": [
    {
     "name": "stdout",
     "output_type": "stream",
     "text": [
      "HYDER\n"
     ]
    }
   ],
   "source": [
    "s = \"HYDERABAD\"\n",
    "\n",
    "print(s[:5])"
   ]
  },
  {
   "cell_type": "code",
   "execution_count": 8,
   "id": "e705ca96",
   "metadata": {},
   "outputs": [
    {
     "data": {
      "text/plain": [
       "False"
      ]
     },
     "execution_count": 8,
     "metadata": {},
     "output_type": "execute_result"
    }
   ],
   "source": [
    "bool({})"
   ]
  },
  {
   "cell_type": "code",
   "execution_count": 9,
   "id": "fe8a83f0",
   "metadata": {},
   "outputs": [
    {
     "data": {
      "text/plain": [
       "True"
      ]
     },
     "execution_count": 9,
     "metadata": {},
     "output_type": "execute_result"
    }
   ],
   "source": [
    "bool(\"fmglmf\")"
   ]
  },
  {
   "cell_type": "code",
   "execution_count": 10,
   "id": "e63a7cd1",
   "metadata": {},
   "outputs": [
    {
     "data": {
      "text/plain": [
       "False"
      ]
     },
     "execution_count": 10,
     "metadata": {},
     "output_type": "execute_result"
    }
   ],
   "source": [
    "bool(\"\")"
   ]
  },
  {
   "cell_type": "code",
   "execution_count": 12,
   "id": "948b9db6",
   "metadata": {},
   "outputs": [
    {
     "data": {
      "text/plain": [
       "True"
      ]
     },
     "execution_count": 12,
     "metadata": {},
     "output_type": "execute_result"
    }
   ],
   "source": [
    "bool(\"fsf\")"
   ]
  },
  {
   "cell_type": "code",
   "execution_count": 15,
   "id": "0ed3e6e0",
   "metadata": {},
   "outputs": [
    {
     "data": {
      "text/plain": [
       "True"
      ]
     },
     "execution_count": 15,
     "metadata": {},
     "output_type": "execute_result"
    }
   ],
   "source": [
    "bool({\"key:value\"})"
   ]
  },
  {
   "cell_type": "code",
   "execution_count": 18,
   "id": "c5e24e09",
   "metadata": {},
   "outputs": [
    {
     "data": {
      "text/plain": [
       "False"
      ]
     },
     "execution_count": 18,
     "metadata": {},
     "output_type": "execute_result"
    }
   ],
   "source": [
    "bool(0)"
   ]
  },
  {
   "cell_type": "markdown",
   "id": "9d6b7ecb",
   "metadata": {},
   "source": []
  },
  {
   "cell_type": "code",
   "execution_count": 19,
   "id": "f0040bd9",
   "metadata": {},
   "outputs": [
    {
     "name": "stdout",
     "output_type": "stream",
     "text": [
      "Valid sting\n"
     ]
    }
   ],
   "source": [
    "name = \"satya\"\n",
    "\n",
    "if len(name)> 0:\n",
    "    print(\"Valid sting\")\n",
    "else:\n",
    "    print(\"in valid string\")"
   ]
  },
  {
   "cell_type": "code",
   "execution_count": 30,
   "id": "8a94f296",
   "metadata": {},
   "outputs": [
    {
     "name": "stdout",
     "output_type": "stream",
     "text": [
      "Valid string\n"
     ]
    }
   ],
   "source": [
    "name = \"p\"\n",
    "\n",
    "# Using a list comprehension to check if name is valid\n",
    "validity = [\"Valid string\" if len(name) > 0 else \"Invalid string\"]\n",
    "\n",
    "print(validity[0])\n"
   ]
  },
  {
   "cell_type": "code",
   "execution_count": 32,
   "id": "6ae16032",
   "metadata": {},
   "outputs": [
    {
     "name": "stdout",
     "output_type": "stream",
     "text": [
      "a is big\n"
     ]
    }
   ],
   "source": [
    "a = 10\n",
    "b =2\n",
    "valid = [\"a is big\" if a>b else \"b is big\"]\n",
    "print(valid[0])"
   ]
  },
  {
   "cell_type": "code",
   "execution_count": null,
   "id": "5d9b0921",
   "metadata": {},
   "outputs": [],
   "source": []
  }
 ],
 "metadata": {
  "kernelspec": {
   "display_name": "Python 3 (ipykernel)",
   "language": "python",
   "name": "python3"
  },
  "language_info": {
   "codemirror_mode": {
    "name": "ipython",
    "version": 3
   },
   "file_extension": ".py",
   "mimetype": "text/x-python",
   "name": "python",
   "nbconvert_exporter": "python",
   "pygments_lexer": "ipython3",
   "version": "3.12.4"
  }
 },
 "nbformat": 4,
 "nbformat_minor": 5
}
