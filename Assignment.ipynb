{
 "cells": [
  {
   "cell_type": "code",
   "execution_count": 27,
   "id": "4ddce18b-ca7b-4c91-b1a3-813db76fc168",
   "metadata": {},
   "outputs": [
    {
     "name": "stdout",
     "output_type": "stream",
     "text": [
      "Enter no.of people : 1\n",
      "Enter how many seats : 2\n"
     ]
    },
    {
     "name": "stdout",
     "output_type": "stream",
     "text": [
      "The no_of buses are required 1 \n"
     ]
    }
   ],
   "source": [
    "#1. Take the input from the user for(Total number of people,Number of seats for bus. Based on two inputs\n",
    "#Decide how many number of buses required\n",
    "\n",
    "no_of_people = int(input(\"Enter no.of people :\"))\n",
    "no_of_seats = int(input(\"Enter how many seats :\"))\n",
    "\n",
    "# if no_of_seats > 0:\n",
    "buses_required = ((no_of_people + no_of_seats) // no_of_seats)\n",
    "print(f\"The no_of buses are required {buses_required} \")\n",
    "\n"
   ]
  },
  {
   "cell_type": "code",
   "execution_count": 2,
   "id": "3e058d25-68e4-4c93-b6e5-6a5034b1986c",
   "metadata": {},
   "outputs": [
    {
     "name": "stdout",
     "output_type": "stream",
     "text": [
      "Enter temperature in Fahrenheit:  100\n"
     ]
    },
    {
     "name": "stdout",
     "output_type": "stream",
     "text": [
      "Temperature in Celsius: 37.78\n"
     ]
    }
   ],
   "source": [
    "# 2.take temperature from the user and convert foreign heat -> Celsius.\n",
    "fahrenheit = float(input(\"Enter temperature in Fahrenheit: \"))\n",
    "\n",
    "celsius = (5/9) * (fahrenheit - 32)\n",
    "\n",
    "print(f\"Temperature in Celsius: {celsius:.2f}\")\n"
   ]
  },
  {
   "cell_type": "code",
   "execution_count": 3,
   "id": "596a3314-9c79-4f1d-8ada-22f8dea57784",
   "metadata": {},
   "outputs": [
    {
     "name": "stdout",
     "output_type": "stream",
     "text": [
      "Enter temperature in celsius:  32\n"
     ]
    },
    {
     "name": "stdout",
     "output_type": "stream",
     "text": [
      "Temperature in Celsius: 89.60\n"
     ]
    }
   ],
   "source": [
    "# 3.take temperature from the user and convert Celsius → foreign heat.\n",
    "\n",
    "celsius = float(input(\"Enter temperature in celsius: \"))\n",
    "\n",
    "Fahrenheit =((celsius*9/5) + 32)\n",
    "\n",
    "print(f\"Temperature in Celsius: {Fahrenheit:.2f}\")\n"
   ]
  },
  {
   "cell_type": "code",
   "execution_count": 4,
   "id": "62b82c28-c0e9-4183-b35f-2b49ebb0c349",
   "metadata": {},
   "outputs": [
    {
     "name": "stdout",
     "output_type": "stream",
     "text": [
      "Enter distance in kilometers:  10\n"
     ]
    },
    {
     "name": "stdout",
     "output_type": "stream",
     "text": [
      " Meters : 10000.0, Cms : 1000000.0, MM : 10000000.0, Feets : 32810.0, yards : 10936.0\n"
     ]
    }
   ],
   "source": [
    "# 5.Take the distance in km\n",
    "# Show that in cm, meters, in milli meters, cents, feets, yards\n",
    "\n",
    "Kilometers = float(input(\"Enter distance in kilometers: \"))\n",
    "\n",
    "Meters = Kilometers * 1000\n",
    "\n",
    "cm = Meters * 100\n",
    "\n",
    "millimeters = cm * 10\n",
    "\n",
    "cents = None\n",
    "\n",
    "feets =3281 * Kilometers\n",
    "\n",
    "yards = 1093.6 * Kilometers\n",
    "\n",
    "print(f\" Meters : {Meters}, Cms : {cm}, MM : {millimeters}, Feets : {feets}, yards : {yards}\" )\n",
    "\n",
    "\n"
   ]
  },
  {
   "cell_type": "code",
   "execution_count": 5,
   "id": "ee77e3ac-5e9a-4ccd-9ad8-d60f81577a92",
   "metadata": {},
   "outputs": [
    {
     "name": "stdout",
     "output_type": "stream",
     "text": [
      "Enter your hard disk in gb:  1\n"
     ]
    },
    {
     "name": "stdout",
     "output_type": "stream",
     "text": [
      "GB : 1, MB : 1024, KB : 1048576, TB : 0.0009765625, PB :9.5367431640625e-07\n"
     ]
    }
   ],
   "source": [
    "# 6.Take the size of your hard disk in GB\n",
    "# Show that in MB, KB, TB, PB\n",
    "\n",
    "gb = int(input(\"Enter your hard disk in gb: \"))\n",
    "\n",
    "mb = 1024 * gb\n",
    "\n",
    "kb = 1024* mb\n",
    "\n",
    "tb = gb / 1024\n",
    "\n",
    "pb = tb/ 1024\n",
    "\n",
    "print(f\"GB : {gb}, MB : {mb}, KB : {kb}, TB : {tb}, PB :{pb}\")"
   ]
  },
  {
   "cell_type": "code",
   "execution_count": 6,
   "id": "9b345151-e141-47bf-a1d2-ca54c2ce26e4",
   "metadata": {},
   "outputs": [
    {
     "name": "stdout",
     "output_type": "stream",
     "text": [
      "Enter Name of yours Satya\n",
      "Enter Name of age 24\n",
      "Enter Name of height 156\n"
     ]
    },
    {
     "name": "stdout",
     "output_type": "stream",
     "text": [
      "The details of the person: Name:Satya, Age:24, Height:156.\n"
     ]
    }
   ],
   "source": [
    "# 7. Take name, age, height from the user and print like below\n",
    "# The details of the person: Name:name of the person, Age:age of the person, Height:height of the person\n",
    "# Note: make sure that no space between : and a value and should be space after “COMA”\n",
    "\n",
    "name = input(\"Enter Name of yours\")\n",
    "age = input(\"Enter Name of age\")\n",
    "height = input(\"Enter Name of height\")\n",
    "\n",
    "print(f\"The details of the person: Name:{name}, Age:{age}, Height:{height}.\")\n"
   ]
  },
  {
   "cell_type": "code",
   "execution_count": 8,
   "id": "57ca6282-125f-4011-ba7c-f1551ce41952",
   "metadata": {},
   "outputs": [
    {
     "name": "stdout",
     "output_type": "stream",
     "text": [
      "Enter your weight in kilograms:  52\n",
      "Enter your height in centimeters:  156\n"
     ]
    },
    {
     "name": "stdout",
     "output_type": "stream",
     "text": [
      "Your BMI is: 21.367521367521366\n"
     ]
    }
   ],
   "source": [
    "# 8. BMI calculation: take required parameters for BMI calculation from the user and calculate BMI of the person.\n",
    "\n",
    "weight = float(input(\"Enter your weight in kilograms: \"))\n",
    "\n",
    "height_cm = float(input(\"Enter your height in centimeters: \"))\n",
    "\n",
    "height_m = height_cm / 100\n",
    "\n",
    "bmi = weight / (height_m ** 2)\n",
    "\n",
    "print(f\"Your BMI is: {bmi}\")"
   ]
  },
  {
   "cell_type": "code",
   "execution_count": 1,
   "id": "6d88bf82-f8b4-4d43-964f-f18c47917836",
   "metadata": {},
   "outputs": [
    {
     "name": "stdout",
     "output_type": "stream",
     "text": [
      "Enter the values: 10\n",
      "Enter the values: 10\n",
      "Enter the values: 101\n",
      "Enter the values: 010\n"
     ]
    },
    {
     "name": "stdout",
     "output_type": "stream",
     "text": [
      "161.17499999999998 32.75 <built-in function sum>\n"
     ]
    }
   ],
   "source": [
    "# 4.take four number from the user (variables name it as x1,x2,x3,x4)\n",
    "# Do the below operations\n",
    "# (x1+x2)**2, (x3+x4)**3\n",
    "# variance\n",
    "# standard deviation: sqrt(variance): User math module. Math.sqrt(variance)\n",
    "# Regression\n",
    "# y=mx+b\n",
    "# m=1.23\n",
    "# b=0.045\n",
    "# find out y\n",
    "# y=m*(x1+x2+x3+x4)+b\n",
    "# Find the average of four numbers\n",
    "# Find the sum of four numbers\n",
    "import math\n",
    "x1 = int(input(\"Enter the values:\"))\n",
    "x2 = int(input(\"Enter the values:\"))\n",
    "x3 = int(input(\"Enter the values:\"))\n",
    "x4 = int(input(\"Enter the values:\"))\n",
    "\n",
    "x5 = (x1 + x2) ** 2\n",
    "x6 = (x3 + x4) ** 3\n",
    "sum1 = (x1 + x2 + x3 + x4)\n",
    "m = 1.23\n",
    "b = 0.045\n",
    "# y = m * sum + b\n",
    "y=m*(x1+x2+x3+x4)+b\n",
    "\n",
    "\n",
    "numbers = [x1, x2, x3, x4]\n",
    "mean = sum(numbers) / len(numbers)\n",
    "variance = sum((x - mean) ** 2 for x in numbers) / len(numbers)\n",
    "\n",
    "\n",
    "std_deviation = math.sqrt(variance)\n",
    "\n",
    "\n",
    "average = (x1 + x2 + x3 + x4)/4\n",
    "print(y, average, sum)\n",
    "\n",
    "\n",
    "\n",
    "\n",
    "    "
   ]
  },
  {
   "cell_type": "code",
   "execution_count": 3,
   "id": "fd16fcb1-2957-45b1-bad8-338162631f99",
   "metadata": {},
   "outputs": [
    {
     "name": "stdout",
     "output_type": "stream",
     "text": [
      "Name: Jayaram, Age: 1.600000, Height: 3.535623, weight: 10.343857.\n"
     ]
    }
   ],
   "source": [
    "# 9. name=\"Jayaram\"\n",
    "# age=1.6\n",
    "# height=3.5356234\n",
    "# weight=10.343856783\n",
    "# By using above inputs print the output\n",
    "# Name:Jayaram, Age:1.6, Height:3.54, Weight:10.344\n",
    "# Note: Use format specifiers(%s, %d, %f)\n",
    "\n",
    "name=\"Jayaram\"\n",
    "age=1.6\n",
    "height=3.5356234\n",
    "weight=10.343856783\n",
    "\n",
    "print(\"Name: %s, Age: %f, Height: %f, weight: %f.\"%(name, age, height, weight))"
   ]
  },
  {
   "cell_type": "code",
   "execution_count": 5,
   "id": "d7b762cf-4fe7-4f21-baaf-c875141cce5f",
   "metadata": {},
   "outputs": [
    {
     "name": "stdout",
     "output_type": "stream",
     "text": [
      "satya\n"
     ]
    }
   ],
   "source": [
    "# 10. Take three upper case letters from the user, convert in to small case.\n",
    "letter = \"SATYA\"\n",
    "print(letter.lower())"
   ]
  },
  {
   "cell_type": "code",
   "execution_count": 25,
   "id": "4eedd22a-006d-44d1-9a65-6705237c96b4",
   "metadata": {},
   "outputs": [
    {
     "name": "stdout",
     "output_type": "stream",
     "text": [
      "Enter the base value 2\n",
      "Enter the Exponent value 3\n"
     ]
    },
    {
     "name": "stdout",
     "output_type": "stream",
     "text": [
      "2°³\n"
     ]
    }
   ],
   "source": [
    "# 11. take base and exponent value from the user and print like in mathematics:\n",
    "# example: base=2, exponent=3: 23\n",
    "# Use: 2\\u00b3\n",
    "\n",
    "base = input(\"Enter the base value\")\n",
    "exponent = input(\"Enter the Exponent value\")\n",
    "\n",
    "super_script = exponent.replace('3', '\\u00B3')\n",
    "print(f\"{base}\\u00b0{super_script}\")\n",
    "               "
   ]
  },
  {
   "cell_type": "code",
   "execution_count": 11,
   "id": "a9fec335-6c35-4d8d-9382-f891af3a41d5",
   "metadata": {},
   "outputs": [
    {
     "name": "stdout",
     "output_type": "stream",
     "text": [
      "Total cost of groceries are: 170.000000 \n",
      "Total average_cost groceries are: 42.500000 \n",
      "Total max_cost groceries are: 80.000000 \n",
      "Total min_cost groceries are: 10.000000 \n"
     ]
    }
   ],
   "source": [
    "# 12. Take some groceries cost prices and print total cost and average cost, what is the max cost, what is the minimum cost.\n",
    "\n",
    "soap = 80\n",
    "bottle = 50\n",
    "book = 30\n",
    "pen = 10\n",
    "\n",
    "groceries = [soap, bottle, book, pen]\n",
    "\n",
    "total_cost = sum(groceries)\n",
    "\n",
    "average_cost = total_cost / len(groceries)\n",
    "\n",
    "max_cost = max(groceries)\n",
    "\n",
    "min_cost = min(groceries)\n",
    "\n",
    "print(\"Total cost of groceries are: %f \"%(total_cost))\n",
    "print(\"Total average_cost groceries are: %f \"%(average_cost))\n",
    "print(\"Total max_cost groceries are: %f \"%(max_cost))\n",
    "print(\"Total min_cost groceries are: %f \"%(min_cost))\n"
   ]
  },
  {
   "cell_type": "code",
   "execution_count": 1,
   "id": "d018b814-dda6-4f96-b89e-6394ecaea955",
   "metadata": {},
   "outputs": [
    {
     "name": "stdout",
     "output_type": "stream",
     "text": [
      "DERABAD\n",
      "YDER\n",
      "DABARED\n",
      "\n",
      "RABA\n",
      "\n",
      "YEAA\n",
      "DBRD\n",
      "HYDERABAD\n"
     ]
    }
   ],
   "source": [
    "# SLICING:\n",
    "# 13. s=”HYDERABAD” print(s[2:9]), print(s[-8:5]), print(s[-1:-8:-1]), \n",
    "# print(s[-1:-8]), print(s[4:8]), print(s[4:8:-1]), print(s[1:8:2]), print(s[8:1:-2])\n",
    "\n",
    "s=\"HYDERABAD\"\n",
    "\n",
    "print(s[2:9]) \n",
    "print(s[-8:5])\n",
    "print(s[-1:-8:-1])\n",
    "print(s[-1:-8])\n",
    "print(s[4:8])\n",
    "print(s[4:8:-1])\n",
    "print(s[1:8:2])\n",
    "print(s[8:1:-2])\n",
    "print(s[::])"
   ]
  },
  {
   "cell_type": "code",
   "execution_count": 4,
   "id": "3562d39a-9d9a-4fc8-aa53-eb3455a7bef5",
   "metadata": {},
   "outputs": [
    {
     "name": "stdout",
     "output_type": "stream",
     "text": [
      "Enter the Option 3\n"
     ]
    },
    {
     "name": "stdout",
     "output_type": "stream",
     "text": [
      "bananna\n"
     ]
    }
   ],
   "source": [
    "# print(\"1.Apple \\n2.Orange \\n3.bnanna \\n4.pineapple\")\n",
    "opt = int(input(\"Enter the Option\"))\n",
    "if opt == 1:\n",
    "    print(\"Apples\")\n",
    "elif opt == 2:\n",
    "    print(\"Orange\")\n",
    "elif opt == 3:\n",
    "    print(\"bananna\")\n",
    "elif opt == 4:\n",
    "    print(\"pineapple\")\n",
    "else:\n",
    "    print(\"Please Check your option and try again\")\n"
   ]
  },
  {
   "cell_type": "code",
   "execution_count": 5,
   "id": "c33c449a",
   "metadata": {},
   "outputs": [
    {
     "name": "stdout",
     "output_type": "stream",
     "text": [
      "Not ten\n",
      "Not ten\n"
     ]
    }
   ],
   "source": [
    "\"\"\"13. Assign “ten” value to variable it is 10 otherwise assign “Not ten”\n",
    "\n",
    "Note: write two versions of program\n",
    "\n",
    "Version1: use and operator\n",
    "\n",
    "Version2: use or operator\"\"\"\n",
    "\n",
    "\n",
    "number = \"k\"\n",
    "result = \"ten\" if number == 10 and isinstance(number, int) else \"Not ten\"\n",
    "print(result)\n",
    "\n",
    "result2 = \"ten\" if number == 10 or isinstance(number, int) else \"Not ten\"\n",
    "print(result2)\n"
   ]
  },
  {
   "cell_type": "code",
   "execution_count": 21,
   "id": "7c2e2b39",
   "metadata": {},
   "outputs": [
    {
     "name": "stdout",
     "output_type": "stream",
     "text": [
      "1000000\n",
      "100 20 1 2\n",
      "Additional buses required: 30\n"
     ]
    }
   ],
   "source": [
    "\"\"\"13. Take the input from the user for(Total number \n",
    "of people, total number of buses, Number of seats for bus, adjust factor). Based on four inputs\n",
    "Decide whether there is sufficient buses or not and give solution for how many extra buses required.\"\"\"\n",
    "\n",
    "Total_number_of_people = int(input())\n",
    "total_number_of_buses = int(input())\n",
    "number_of_seats_for_bus = int(input())\n",
    "adjust_factor = int(input())\n",
    "\n",
    "total_capacity = total_number_of_buses * number_of_seats_for_bus * adjust_factor\n",
    "\n",
    "print(total_capacity)\n",
    "print(Total_number_of_people, total_number_of_buses, number_of_seats_for_bus, adjust_factor)\n",
    "if total_capacity >= Total_number_of_people:\n",
    "    print(\"there are sufficent buses are avalible\")\n",
    "else:\n",
    "    needed_buses = (Total_number_of_people / (number_of_seats_for_bus * adjust_factor)) - total_number_of_buses\n",
    "    needed_buses = int(needed_buses) + (1 if needed_buses % 1 > 0 else 0)\n",
    "    print(f\"Additional buses required: {needed_buses}\")"
   ]
  },
  {
   "cell_type": "code",
   "execution_count": 28,
   "id": "c1c1ab1f",
   "metadata": {},
   "outputs": [
    {
     "name": "stdout",
     "output_type": "stream",
     "text": [
      "odd\n"
     ]
    }
   ],
   "source": [
    "\"\"\"14.Take number from the user decide whether it is even or odd.\"\"\"\n",
    "\n",
    "number = int(input(\"Enter the number\"))\n",
    "result = \"Even\" if number % 2 == 0 else \"odd\"\n",
    "print(result)"
   ]
  },
  {
   "cell_type": "code",
   "execution_count": 30,
   "id": "f7eeef61",
   "metadata": {},
   "outputs": [
    {
     "data": {
      "text/plain": [
       "'+ve'"
      ]
     },
     "execution_count": 30,
     "metadata": {},
     "output_type": "execute_result"
    }
   ],
   "source": [
    "\"\"\"15.take number from the user decide whether it is positive number or negative number\"\"\"\n",
    "\n",
    "num2 = int(input(\"Enter a number\"))\n",
    "\n",
    "result3 = \"+ve\" if num2 >0 else \"-v\"\n",
    "result3"
   ]
  },
  {
   "cell_type": "code",
   "execution_count": 34,
   "id": "51355fbd",
   "metadata": {},
   "outputs": [
    {
     "name": "stdout",
     "output_type": "stream",
     "text": [
      "5\n"
     ]
    }
   ],
   "source": [
    "\"\"\"16.take a string from the user print the length. if the user not given anything then show an error message\"\"\"\n",
    "\n",
    "given_string = str(input(\"Enter a strig\"))\n",
    "\n",
    "if len(given_string) >0:\n",
    "    print(len(given_string))\n",
    "else:\n",
    "    print(\"Please enter a sting\")"
   ]
  },
  {
   "cell_type": "code",
   "execution_count": 41,
   "id": "4e87a9f2",
   "metadata": {},
   "outputs": [
    {
     "name": "stdout",
     "output_type": "stream",
     "text": [
      "1.add \n",
      "2.sub \n",
      "3.mul \n",
      "4.div \n",
      "5.quit\n",
      "1.0\n"
     ]
    }
   ],
   "source": [
    "\"\"\"17.code to perform mathematical operations. take two numbers from the user and show the below menu\n",
    "\n",
    "1.add \\n2.sub \\n3.mul \\n4.div \\n5.quit\n",
    "\n",
    "Enter an option:\n",
    "\n",
    "based on the option need to perform an operations\"\"\"\n",
    "\n",
    "num3 = int(input(\"Enter a number\"))\n",
    "\n",
    "num4 = int(input(\"Enter a number\"))\n",
    "\n",
    "print(\"1.add \\n2.sub \\n3.mul \\n4.div \\n5.quit\")\n",
    "\n",
    "enter_option = int(input(\"Enter an option\"))\n",
    "\n",
    "if enter_option == 1:\n",
    "    print(num3 + num4)\n",
    "\n",
    "elif enter_option == 2:\n",
    "    print(num3 - num4)\n",
    "\n",
    "elif enter_option == 3:\n",
    "    print(num3 * num4)\n",
    "\n",
    "elif enter_option == 4:\n",
    "    print(num3 / num4)\n",
    "\n",
    "elif enter_option == 5:\n",
    "    None\n",
    "\n",
    "else:\n",
    "    print(\"ENTER VALID OPTION\")\n"
   ]
  },
  {
   "cell_type": "code",
   "execution_count": 1,
   "id": "12253631",
   "metadata": {},
   "outputs": [
    {
     "name": "stdout",
     "output_type": "stream",
     "text": [
      "1.Kids \n",
      "2.men's \n",
      "3.women's\n",
      "you are a kid\n"
     ]
    }
   ],
   "source": [
    "\"\"\"18. show the menu:\n",
    "\n",
    "1. kids\n",
    "\n",
    "2. Men's\n",
    "\n",
    "3. Women's\n",
    "\n",
    "Show the corresponding message based on the selection.\n",
    "\n",
    "Option:1: you are a kid\n",
    "\n",
    "2: you are a gentlemen\n",
    "\n",
    "3: you are a good women\n",
    "\n",
    "\n",
    "Mention error message if the option value >3.\"\"\"\n",
    "\n",
    "print(\"1.Kids \\n2.men's \\n3.women's\")\n",
    "\n",
    "enter_your_option = int(input(\"Enter your option\"))\n",
    "\n",
    "if enter_your_option == 1:\n",
    "    print(\"you are a kid\")\n",
    "\n",
    "if enter_your_option == 2:\n",
    "    print(\"you are a gentleman\")\n",
    "\n",
    "if enter_your_option == 3:\n",
    "    print(\"you are a good women\")"
   ]
  },
  {
   "cell_type": "code",
   "execution_count": 5,
   "id": "2cca8aa2",
   "metadata": {},
   "outputs": [
    {
     "name": "stdout",
     "output_type": "stream",
     "text": [
      "yes\n"
     ]
    }
   ],
   "source": [
    "\"\"\"19. write a program to chcek given substring is there in actual string or not?\n",
    "\n",
    "example: act=\"python is a pure object oriented programing language\"\n",
    "\n",
    "check whether “pure” is there in act or not.\n",
    "\n",
    "Note: Use in operator\"\"\"\n",
    "\n",
    "act=\"python is a pure object oriented programing language\"\n",
    "\n",
    "string = \"pure\"\n",
    "\n",
    "if string in act:\n",
    "    print(\"yes\")\n",
    "else:\n",
    "    print(\"no\")"
   ]
  },
  {
   "cell_type": "code",
   "execution_count": 6,
   "id": "e8af5ce8",
   "metadata": {},
   "outputs": [
    {
     "name": "stdout",
     "output_type": "stream",
     "text": [
      "30 is big number\n"
     ]
    }
   ],
   "source": [
    "\"\"\"20. Take three numbers from the user and decide which is big\"\"\"\n",
    "\n",
    "number1 = int(input(\"Enter a number\"))\n",
    "number2 = int(input(\"Enter a number\"))\n",
    "number3 = int(input(\"Enter a number\"))\n",
    "\n",
    "if number1 > number2 > number3 :\n",
    "    print(f\"{number1} is big number\")\n",
    "\n",
    "if number2 > number3 :\n",
    "    print(f\"{number2} is big number\")\n",
    "\n",
    "else:\n",
    "    print(f\"{number3} is big number\")"
   ]
  },
  {
   "cell_type": "code",
   "execution_count": 10,
   "id": "6c5b6a87",
   "metadata": {},
   "outputs": [
    {
     "name": "stdout",
     "output_type": "stream",
     "text": [
      "She is eligible for marriage.\n"
     ]
    }
   ],
   "source": [
    "\"\"\"21. Take age and gender from the user and decide whether he is eligible for marriage in India or not.\"\"\"\n",
    "\n",
    "age = int(input(\"Enter age: \"))\n",
    "gender_raw = input(\"Enter Gender (male/female): \")\n",
    "\n",
    "gender = gender_raw.lower()\n",
    "\n",
    "if (gender == \"male\" or gender == \"m\") and age >= 24:\n",
    "    print(\"He is eligible for marriage.\")\n",
    "elif (gender == \"female\" or gender == \"f\") and age >= 21:\n",
    "    print(\"She is eligible for marriage.\")\n",
    "else:\n",
    "    print(\"Not eligible for marriage.\")\n",
    "\n",
    "\n",
    "\n"
   ]
  },
  {
   "cell_type": "code",
   "execution_count": 26,
   "id": "e7e8ca3e",
   "metadata": {},
   "outputs": [
    {
     "name": "stdout",
     "output_type": "stream",
     "text": [
      "['Your are not eligible']\n"
     ]
    }
   ],
   "source": [
    "\"\"\"22. Take an age and gender from the user: and mention that what he/she can do in india.\n",
    "conditions\n",
    "1. Theatre: 5 for men 7 for women\n",
    "2. Voting system: 18 for men and women\n",
    "3. Marriage in india: 23 for men and for women >21\n",
    "4. For govt jobs: (min:18, max:32) for men and (min:18, max:34) for women\n",
    "5. For driving licence: (min:18, max:60) for men and women\n",
    "Eligibility:\n",
    "1. theatre\n",
    "2. Voting system\n",
    "3. Marriage in india\n",
    "4. For govt obs\n",
    "5. For driving licence:\n",
    "Enter an option:\n",
    "Gender:\n",
    "1. men\n",
    "2. women\n",
    "Enter an option:\n",
    "Enter an age of person:\"\"\"\n",
    "\n",
    "age = int(input(\"Enter your age\"))\n",
    "\n",
    "gender = input(\"Enter your gender\")\n",
    "\n",
    "if (gender == \"male\" or gender == \"m\" or gender == \"1\"):\n",
    "    gender = \"male\"\n",
    "\n",
    "if (gender == \"female\" or gender == \"f\" or gender == \"2\"):\n",
    "    gender = \"female\"\n",
    "\n",
    "Eligiblity_list = []\n",
    "\n",
    "if age > 0:\n",
    "    if (gender == \"male\" and age < 5) or (gender == \"female\" and age < 7):\n",
    "        Eligiblity_list.append(\"Your are not eligible\")\n",
    "\n",
    "    if (gender == \"male\" and age >= 5) or (gender == \"female\" and age >= 7):\n",
    "        Eligiblity_list.append(\"Theater\")\n",
    "\n",
    "    if (gender == \"male\" and age >= 18) or (gender == \"female\" and age >= 18):\n",
    "        Eligiblity_list.append(\"Voting system\")\n",
    "\n",
    "    if (gender == \"male\" and age >= 23) or (gender == \"female\" and age >= 21):\n",
    "        Eligiblity_list.append(\"Marriage in india\")\n",
    "\n",
    "    if (gender == \"male\" and 18 <= age <= 32) or (gender == \"female\" and 18 <= age <= 34):\n",
    "        Eligiblity_list.append(\"For govt jobs\")\n",
    "\n",
    "    if (gender == \"male\" and 18 <= age <= 60) or (gender == \"female\" and 18 <= age <= 60):\n",
    "        Eligiblity_list.append(\"Theatdriving licenceer\")\n",
    "    print(f\"{Eligiblity_list}\")\n",
    "\n",
    "else:\n",
    "    print(\"Invalid gender input\")\n",
    "\n"
   ]
  },
  {
   "cell_type": "code",
   "execution_count": 32,
   "id": "e7916d23",
   "metadata": {},
   "outputs": [
    {
     "name": "stdout",
     "output_type": "stream",
     "text": [
      "There is only three floors, please select 1 or 2 or 3\n"
     ]
    }
   ],
   "source": [
    "\"\"\"23. operating systems:\n",
    "1.windows\n",
    "2.android\n",
    "3.mac\n",
    "Enter an option:\n",
    "If the user enters 1 then show \"Goto first floor and buy windows laptop or mobile\"\n",
    "If the user enters 2 then show \"Goto second floor and buy adroid mobiles\"\n",
    "If the user enters 3 then show \"Goto third floor and buy mac laptop or iphones\"\n",
    "If the user enters other than 1 or 2 or 3 then show \"There is only three floors, please select 1 or 2 or 3\"\"\"\n",
    "\n",
    "operating_system = int(input(\"enter a option (1.windows 2.android 3.mac\"))\n",
    "\n",
    "if operating_system == 1:\n",
    "    print(\"Goto first floor and buy windows laptop or mobile\")\n",
    "\n",
    "elif operating_system == 2:\n",
    "    print(\"Goto second floor and buy adroid mobiles\")\n",
    "\n",
    "elif operating_system == 3:\n",
    "    print(\"Goto third floor and buy mac laptop or iphones\")\n",
    "\n",
    "else:\n",
    "    print(\"There is only three floors, please select 1 or 2 or 3\")"
   ]
  },
  {
   "cell_type": "code",
   "execution_count": 50,
   "id": "0052c368",
   "metadata": {},
   "outputs": [
    {
     "name": "stdout",
     "output_type": "stream",
     "text": [
      "old age\n"
     ]
    }
   ],
   "source": [
    "\"\"\"24.Given an age, figure out whether someone's a baby, toddler, child, teenager, adult or old codger.\"\"\"\n",
    "\n",
    "age = float(input(\"Enter an age\"))\n",
    "\n",
    "\n",
    "if 0 < age <= 1:\n",
    "    print(\"Baby\")\n",
    "\n",
    "elif 1 < age <= 3:\n",
    "    print(\"toddler\")\n",
    "\n",
    "elif 3 < age <= 12:\n",
    "    print(\"Child\")\n",
    "\n",
    "elif 13 <= age <= 19:\n",
    "    print(\"Teenager\")\n",
    "\n",
    "elif 20 <= age < 65:\n",
    "    print(\"Adult\")\n",
    "\n",
    "elif age > 65:\n",
    "    print(\"old age\")\n",
    "\n",
    "else:\n",
    "    print(\"Enter valid input\")\n",
    "\n"
   ]
  },
  {
   "cell_type": "code",
   "execution_count": 54,
   "id": "577b5f4a",
   "metadata": {},
   "outputs": [
    {
     "name": "stdout",
     "output_type": "stream",
     "text": [
      "not\n"
     ]
    }
   ],
   "source": [
    "\"\"\"25.Take two number a,b from the user and check whether a is divisible by b or not\"\"\"\n",
    "\n",
    "a = int(input(\"Enter a number\"))\n",
    "b = int(input(\"Enter a number\"))\n",
    "\n",
    "print(\"Divisible\" if a%b == 0 else \"not\")\n",
    "\n"
   ]
  },
  {
   "cell_type": "code",
   "execution_count": 6,
   "id": "b2f31f83",
   "metadata": {},
   "outputs": [
    {
     "name": "stdout",
     "output_type": "stream",
     "text": [
      "CAPTIAL LETTER : DSDF\n"
     ]
    }
   ],
   "source": [
    "\"\"\"26. Take a letter from the user and print that letter belongs to which category I.e is it a small letter or \n",
    "capital letter or number or special symbol\"\"\"\n",
    "\n",
    "letter = input(\"Enter a charactor\")\n",
    "\n",
    "if letter.isupper():\n",
    "    print(f\"CAPTIAL LETTER : {letter}\")\n",
    "elif letter.islower():\n",
    "    print(f\"small letter : {letter}\")\n",
    "elif letter.isdigit():\n",
    "    print(f\"Number : {letter}\")\n",
    "else:\n",
    "    print(f\"Symbol : {letter}\")\n",
    "\n"
   ]
  }
 ],
 "metadata": {
  "kernelspec": {
   "display_name": "Python 3 (ipykernel)",
   "language": "python",
   "name": "python3"
  },
  "language_info": {
   "codemirror_mode": {
    "name": "ipython",
    "version": 3
   },
   "file_extension": ".py",
   "mimetype": "text/x-python",
   "name": "python",
   "nbconvert_exporter": "python",
   "pygments_lexer": "ipython3",
   "version": "3.12.4"
  }
 },
 "nbformat": 4,
 "nbformat_minor": 5
}
